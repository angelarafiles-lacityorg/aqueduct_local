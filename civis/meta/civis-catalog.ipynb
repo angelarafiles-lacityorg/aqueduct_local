{
 "cells": [
  {
   "cell_type": "code",
   "execution_count": 1,
   "metadata": {},
   "outputs": [],
   "source": [
    "import io\n",
    "import os\n",
    "\n",
    "import civis\n",
    "import intake\n",
    "import intake_civis\n",
    "import ipywidgets\n",
    "from civis_aqueduct_utils.github import upload_file_to_github\n",
    "from ipywidgets.embed import embed_minimal_html"
   ]
  },
  {
   "cell_type": "code",
   "execution_count": 2,
   "metadata": {},
   "outputs": [],
   "source": [
    "redshift = intake_civis.open_redshift_catalog()\n",
    "postgres = intake_civis.open_postgres_catalog()"
   ]
  },
  {
   "cell_type": "code",
   "execution_count": 3,
   "metadata": {},
   "outputs": [],
   "source": [
    "def populate_tab(catalog, tab):\n",
    "    label = ipywidgets.HTML(value=\"<h3>Schemas</h3>\")\n",
    "    schema_listing = ipywidgets.Accordion()\n",
    "    tab.children = (label, schema_listing)\n",
    "    populate_schemas(catalog, schema_listing)\n",
    "    \n",
    "def populate_schemas(catalog, schema_listing):\n",
    "    children = []\n",
    "    names = []\n",
    "    for name, item in catalog.items():        \n",
    "        assert item.container == \"catalog\"\n",
    "        if item.name == \"tiger\":\n",
    "            continue\n",
    "        table_listing = ipywidgets.Accordion()\n",
    "        populate_tables(item.get(), table_listing)\n",
    "        names.append(name)\n",
    "        children.append(table_listing)\n",
    "\n",
    "    schema_listing.children = tuple(children)\n",
    "    schema_listing.selected_index = None\n",
    "    for i, name in enumerate(names):\n",
    "        schema_listing.set_title(i, name)\n",
    "        \n",
    "def populate_tables(catalog, table_listing):\n",
    "    children = []\n",
    "    names = []\n",
    "    for name, item in catalog.items():        \n",
    "        html = ipywidgets.HTML()\n",
    "        populate_source(item, html)\n",
    "        names.append(name)\n",
    "        children.append(html)\n",
    "\n",
    "    table_listing.children = tuple(children)\n",
    "    table_listing.selected_index = None\n",
    "    for i, name in enumerate(names):\n",
    "        table_listing.set_title(i, name)\n",
    "\n",
    "def populate_source(source, html):\n",
    "    description = source.describe()\n",
    "    html.value = f\"\"\"\n",
    "    <p><b>Name:</b> {description[\"name\"]}</p>\n",
    "    <p><b>Description:</b> {description[\"description\"]}</p>\n",
    "    \"\"\"\n",
    "    if description[\"args\"].get(\"geometry\") is not None:\n",
    "        html.value = html.value + f\"\"\"\n",
    "        <p><b>Geometry:</b>{description[\"args\"][\"geometry\"]}</p>\n",
    "        \"\"\"\n",
    "    if description[\"args\"].get(\"crs\") is not None:\n",
    "        html.value = html.value + f\"\"\"\n",
    "        <p><b>Coordinate reference system:</b>{description[\"args\"][\"crs\"]}</p>\n",
    "        \"\"\""
   ]
  },
  {
   "cell_type": "code",
   "execution_count": 4,
   "metadata": {},
   "outputs": [
    {
     "data": {
      "application/vnd.jupyter.widget-view+json": {
       "model_id": "f018b58a7f3d4e979dee9ee116ddbad0",
       "version_major": 2,
       "version_minor": 0
      },
      "text/plain": [
       "Tab(children=(VBox(children=(HTML(value='<h3>Schemas</h3>'), Accordion(children=(Accordion(children=(HTML(valu…"
      ]
     },
     "metadata": {},
     "output_type": "display_data"
    }
   ],
   "source": [
    "tabs = ipywidgets.Tab()\n",
    "\n",
    "postgres_tab = ipywidgets.VBox()\n",
    "redshift_tab = ipywidgets.VBox()\n",
    "populate_tab(postgres, postgres_tab)\n",
    "populate_tab(redshift, redshift_tab)\n",
    "\n",
    "tabs.children = (postgres_tab, redshift_tab)\n",
    "tabs.set_title(0, \"PostgreSQL\")\n",
    "tabs.set_title(1, \"Redshift\")\n",
    "tabs"
   ]
  },
  {
   "cell_type": "code",
   "execution_count": 5,
   "metadata": {},
   "outputs": [],
   "source": [
    "preamble = ipywidgets.HTML(\"\"\"\n",
    "<h1>Civis Platform Datasets</h1>\n",
    "\n",
    "<p>\n",
    "The Civis Platform contains two primary data warehouses,\n",
    "Redshift and PostgreSQL. Redshift is a columnar store\n",
    "which excels at processing large amounts of analytics data quickly.\n",
    "PostgreSQL is a more traditional relational database which provides\n",
    "better support for geospatial data and constraints/relations.\n",
    "</p>\n",
    "<p>\n",
    "The below describes the datasets that are currently located in the data warehouses.\n",
    "Each one is broken up into schemas, which themselves hold related tabular datasets.\n",
    "</p>\n",
    "\"\"\")"
   ]
  },
  {
   "cell_type": "code",
   "execution_count": 6,
   "metadata": {},
   "outputs": [],
   "source": [
    "f = io.StringIO()\n",
    "embed_minimal_html(f, views=[preamble, tabs])\n",
    "f.seek(0)\n",
    "content = f.read()"
   ]
  },
  {
   "cell_type": "code",
   "execution_count": 7,
   "metadata": {},
   "outputs": [],
   "source": [
    "client = civis.APIClient()\n",
    "REPORT_ID = os.environ.get(\"TARGET_REPORT\")\n",
    "\n",
    "if REPORT_ID:\n",
    "    client.reports.patch(REPORT_ID, code_body=content);"
   ]
  }
 ],
 "metadata": {
  "kernelspec": {
   "display_name": "Python 3",
   "language": "python",
   "name": "python3"
  },
  "language_info": {
   "codemirror_mode": {
    "name": "ipython",
    "version": 3
   },
   "file_extension": ".py",
   "mimetype": "text/x-python",
   "name": "python",
   "nbconvert_exporter": "python",
   "pygments_lexer": "ipython3",
   "version": "3.8.3"
  }
 },
 "nbformat": 4,
 "nbformat_minor": 4
}
